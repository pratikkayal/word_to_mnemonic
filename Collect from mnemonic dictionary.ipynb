{
 "cells": [
  {
   "cell_type": "code",
   "execution_count": 8,
   "id": "c221fd68",
   "metadata": {},
   "outputs": [],
   "source": [
    "import requests\n",
    "from bs4 import BeautifulSoup\n",
    "import urllib\n",
    "import re\n",
    "import csv\n",
    "\n",
    "import pandas as pd"
   ]
  },
  {
   "cell_type": "code",
   "execution_count": 45,
   "id": "eedba005",
   "metadata": {},
   "outputs": [],
   "source": [
    "df = pd.read_csv('allwords.csv')\n",
    "# lines = ['Word']\n",
    "pd_lines = []\n",
    "for group in df:\n",
    "    word_list = (df[group].tolist())\n",
    "    for word in word_list:\n",
    "#         line = word+','\n",
    "        pd_line = [word]\n",
    "        got, ms = return_mnemonic(word)\n",
    "        if(got):\n",
    "            pd_line += ms\n",
    "#             line+= ','.join(ms)\n",
    "        else:\n",
    "            pd_line += [ms]\n",
    "#             line+=','+ms\n",
    "#         lines.append(line)\n",
    "        pd_lines.append(pd_line)"
   ]
  },
  {
   "cell_type": "code",
   "execution_count": 58,
   "id": "15b40d2a",
   "metadata": {},
   "outputs": [
    {
     "data": {
      "text/plain": [
       "27"
      ]
     },
     "execution_count": 58,
     "metadata": {},
     "output_type": "execute_result"
    }
   ],
   "source": [
    "import numpy as np\n",
    "np.max([len(i) for i in pd_lines])"
   ]
  },
  {
   "cell_type": "code",
   "execution_count": 66,
   "id": "24a6c94b",
   "metadata": {
    "scrolled": true
   },
   "outputs": [],
   "source": [
    "pd.DataFrame(pd_lines, columns=['Word']+['Mnemonic_'+str(i) for i in range(1,27)]).to_csv('word_to_mnemonics.csv')"
   ]
  },
  {
   "cell_type": "code",
   "execution_count": 40,
   "id": "83314a35",
   "metadata": {},
   "outputs": [],
   "source": [
    "lines_ = [i.replace('\\n',';').replace('\\r',';') for i in lines]\n",
    "with open('word_to_mnemonics.csv','w') as file:\n",
    "    for line in lines_:\n",
    "        file.write(line)\n",
    "        file.write('\\n')"
   ]
  },
  {
   "cell_type": "code",
   "execution_count": 2,
   "id": "dfd02838",
   "metadata": {},
   "outputs": [],
   "source": [
    "replace_word = \"http://www.mnemonicdictionary.com/?word=%REPLACEWORD%\"\n",
    "# output = csv.writer(open(\"mnemonic.csv\", \"wb\"),delimiter='\\t', quoting=csv.QUOTE_NONE, quotechar='\"',escapechar=' ')"
   ]
  },
  {
   "cell_type": "code",
   "execution_count": 21,
   "id": "c01012c6",
   "metadata": {
    "scrolled": true
   },
   "outputs": [],
   "source": [
    "def return_mnemonic(word):\n",
    "    url = replace_word\n",
    "    word = word.strip(\" \")\n",
    "    word = word.strip(\"\\n\")\n",
    "#     print (\"\\n\")\n",
    "    url = url.replace(\"%REPLACEWORD%\", word)\n",
    "    url = url.replace(\" \",\"+\")\n",
    "    url = url.replace(\"'\",\"%27\")\n",
    "\n",
    "    #download the URL and extract the content to the variable html\n",
    "    request = requests.get(url)\n",
    "    #pass the HTML to Beautifulsoup.\n",
    "    soup = BeautifulSoup(request.text,'html.parser')\n",
    "\n",
    "    #Scraps the Definition part of the site\n",
    "    data = soup.find('div' , {'class' : 'media-body'})\n",
    "\n",
    "    #Finds the word searched\n",
    "    word_name = data.find('h1')\n",
    "#     print (\"------>\",word_name.text,\"<------\")\n",
    "\n",
    "    #Used to extract the definition,synonyms and example sentence from the site\n",
    "\n",
    "    if(data.find('div' , {'style' : 'padding-bottom:0px;'})):\n",
    "        word_def = data.find('div' , {'style' : 'padding-bottom:0px;'}).text.strip().split('\\n')\n",
    "#         for i in range(0,len(word_def)):\n",
    "#             if(word_def[i]!=\"\"):\n",
    "#                 print(word_def[i])\n",
    "\n",
    "        #Scraps the mnemonic part of the site\n",
    "        hello = soup.find('div' , {'class' : 'mnemonics-slides'})\n",
    "        if (hello):\n",
    "            mnemonics = hello.find_all('p' , {'class' : ''})\n",
    "#             print (\"\\n\\nMnemonics:\")\n",
    "#             print (mnemonics[0].text.strip() ,\"\\n\")\n",
    "            ms = []\n",
    "            for m in mnemonics:\n",
    "                ms.append(m.text.strip().replace(',',';'))\n",
    "            return(True, ms)\n",
    "        else:\n",
    "            return(False, 'No Mnemonic')\n",
    "#             print (\"\\n\\nNo Mnemonics\\n\")\n",
    "    else:\n",
    "        return(False, 'Word not predent in Mnemonic dictionary')\n",
    "#         print (\"\\n\\nWrong word.Please check the spelling or enter the correct word.\\n\")"
   ]
  },
  {
   "cell_type": "code",
   "execution_count": 20,
   "id": "0f661ee4",
   "metadata": {},
   "outputs": [
    {
     "name": "stdout",
     "output_type": "stream",
     "text": [
      "\n",
      "\n",
      "\n",
      "\n",
      "dull+the+rate = impure, means to decrease the rate\n",
      "\n",
      "\n",
      "\n",
      "\n",
      "Adults are more impure than children, so adulterate means to make impure\n",
      "\n",
      "\n",
      "\n",
      "\n",
      "when a child becomes adult he loses his purity and innocence...so any thing adulterated is contaminated or has lost its purity.\n",
      "\n",
      "\n",
      "\n",
      "\n",
      "Think adulterate which reduces purity in marriage\n",
      "\n",
      "\n",
      "\n",
      "\n",
      "ADULTERATE<===> à¤®à¤¿à¤²à¤¾à¤µà¤Ÿ à¤•à¤° (pr. \\\\milavaT kar \\\\ )[Verb]\r\n",
      "\r\n",
      "Example:Unscrupelous merchants do not hesitate to adulterate even baby food.\r\n",
      "\r\n",
      "ADULTERATE<===> à¤®à¤¿à¤²à¤¾à¤µà¤Ÿ à¤•à¤°à¤¨à¤¾ (pr. \\\\milavaT karana \\\\ )[Noun]\n",
      "\n",
      "\n",
      "\n",
      "\n",
      "Adulterate: Add alternatives instead of original\n"
     ]
    }
   ],
   "source": [
    "for m in mnemonics:\n",
    "#     print(m)\n",
    "    print('\\n\\n\\n')\n",
    "    print(m.text.strip())"
   ]
  }
 ],
 "metadata": {
  "kernelspec": {
   "display_name": "Python [conda env:minsu] *",
   "language": "python",
   "name": "conda-env-minsu-py"
  },
  "language_info": {
   "codemirror_mode": {
    "name": "ipython",
    "version": 3
   },
   "file_extension": ".py",
   "mimetype": "text/x-python",
   "name": "python",
   "nbconvert_exporter": "python",
   "pygments_lexer": "ipython3",
   "version": "3.6.13"
  }
 },
 "nbformat": 4,
 "nbformat_minor": 5
}
